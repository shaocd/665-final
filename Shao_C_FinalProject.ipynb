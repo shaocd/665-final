{
 "cells": [
  {
   "cell_type": "markdown",
   "metadata": {},
   "source": [
    "    Changdong Shao \"On my honor, as a student, I have neither given nor received unauthorized aid on this academic work.\""
   ]
  },
  {
   "cell_type": "raw",
   "metadata": {},
   "source": [
    "FAKEID\tthe ticket buyer's unique ID number\n",
    "YXdefect \t\"X\" indicates the year\n",
    "\tY3defect=1 for year 2 ticket holders that did not renew for year 3\n",
    "\tY3defect=0 for year 2 ticket holders that did renew for year 3\n",
    "\tY2defect=1 for year 1 ticket holders that did not renew for year 2\n",
    "\tY2defect=0 for year 1 ticket holders that did renew for year 2\n",
    "YXGZ\t\"X\" indicates the year, \"Z\" indicates the game\n",
    "\te.g. Y2G4=1 for the tickets being used for game 4 in year 2\n",
    "\te.g. Y2G4=0 for the tickets not being used for game 4 in year 2\n",
    "YXprice\t\"X\" indicates the year\n",
    "\tthe price paid per ticket in the indicated year\n",
    "YEARS\tthe number of years as a season ticket holder\n",
    "BACKER\t1=member of the team's \"backer\" club\n",
    "\t0=not a member of the team's \"backer\" club\n",
    "AGE\tage of the ticket buyer (blank=unknown)\n",
    "INCOME\tincome category of the ticket buyer (0=low, 6=high)\n",
    "CHILD\t1=at least one child age 0-18 in household (blank indicates none or unknown)\n",
    "GNDR\t1=male, 0=female, blank=unknown\n",
    "OWNHOME\t1=owns home, 0=does not own home, blank=unknown\n",
    "SPORT\tpurchased appended data\n",
    "\t1=subscribes to a sports magazine, 0=does not subscribe to a sports magazine, blank = unknown\n",
    "COMP\tpurchased appended data\n",
    "\t1=owns a PC (blank indicates does not own a PC or unknown)\n",
    "PCTMARR\tappended census data at zip code level\n",
    "\tpercentage of married heads of household\n",
    "HOMEVAL\tappended census data at zip code level\n",
    "\taverage value of homes in 1000s of dollars"
   ]
  },
  {
   "cell_type": "markdown",
   "metadata": {},
   "source": [
    "### Business and data understanding"
   ]
  },
  {
   "cell_type": "markdown",
   "metadata": {},
   "source": [
    "The goal of this analysis is to find what is the points to affected ticket buyer to buy the tickets or not."
   ]
  },
  {
   "cell_type": "markdown",
   "metadata": {},
   "source": [
    "### Data processing (ETL)"
   ]
  },
  {
   "cell_type": "code",
   "execution_count": 1,
   "metadata": {},
   "outputs": [
    {
     "name": "stderr",
     "output_type": "stream",
     "text": [
      "E:\\anaconda\\lib\\site-packages\\statsmodels\\compat\\pandas.py:56: FutureWarning: The pandas.core.datetools module is deprecated and will be removed in a future version. Please use the pandas.tseries module instead.\n",
      "  from pandas.core import datetools\n"
     ]
    }
   ],
   "source": [
    "import numpy as np\n",
    "import pandas as pd\n",
    "import matplotlib.pyplot as plt\n",
    "import seaborn as sns\n",
    "%matplotlib inline\n",
    "\n",
    "#import decisiontreeclassifier\n",
    "from sklearn import tree\n",
    "from sklearn.tree import DecisionTreeClassifier\n",
    "#import logisticregression classifier\n",
    "from sklearn.linear_model import LogisticRegression\n",
    "import statsmodels.api as sm\n",
    "#import knn classifier\n",
    "from sklearn.neighbors import KNeighborsClassifier\n",
    "\n",
    "from sklearn import svm\n",
    "from sklearn.neural_network import MLPClassifier\n",
    "\n",
    "\n",
    "#ensemble classifier\n",
    "from sklearn.ensemble import RandomForestClassifier\n",
    "from sklearn.ensemble import GradientBoostingClassifier  #GBM algorithm\n",
    "\n",
    "from sklearn.metrics import classification_report, f1_score, accuracy_score, confusion_matrix\n",
    "from sklearn.model_selection import StratifiedKFold, cross_val_score, train_test_split, GridSearchCV, RandomizedSearchCV \n",
    "from sklearn import metrics\n",
    "from sklearn.metrics import roc_auc_score, auc\n",
    "\n",
    "# feature selection\n",
    "from sklearn.feature_selection import RFE\n",
    "from sklearn.ensemble import ExtraTreesClassifier\n",
    "from sklearn.feature_selection import SelectKBest\n",
    "from sklearn.feature_selection import chi2"
   ]
  },
  {
   "cell_type": "code",
   "execution_count": 2,
   "metadata": {},
   "outputs": [
    {
     "data": {
      "text/html": [
       "<div>\n",
       "<style>\n",
       "    .dataframe thead tr:only-child th {\n",
       "        text-align: right;\n",
       "    }\n",
       "\n",
       "    .dataframe thead th {\n",
       "        text-align: left;\n",
       "    }\n",
       "\n",
       "    .dataframe tbody tr th {\n",
       "        vertical-align: top;\n",
       "    }\n",
       "</style>\n",
       "<table border=\"1\" class=\"dataframe\">\n",
       "  <thead>\n",
       "    <tr style=\"text-align: right;\">\n",
       "      <th></th>\n",
       "      <th>FAKEID</th>\n",
       "      <th>Y2defect</th>\n",
       "      <th>Y1G5</th>\n",
       "      <th>Y1G4</th>\n",
       "      <th>Y1G3</th>\n",
       "      <th>Y1G2</th>\n",
       "      <th>Y1G1</th>\n",
       "      <th>Y1price</th>\n",
       "      <th>YEARS</th>\n",
       "      <th>BACKER</th>\n",
       "      <th>AGE</th>\n",
       "      <th>INCOME</th>\n",
       "      <th>CHILD</th>\n",
       "      <th>GNDR</th>\n",
       "      <th>OWNHOME</th>\n",
       "      <th>SPORT</th>\n",
       "      <th>COMP</th>\n",
       "      <th>PCTMARR</th>\n",
       "      <th>HOMEVAL</th>\n",
       "    </tr>\n",
       "  </thead>\n",
       "  <tbody>\n",
       "    <tr>\n",
       "      <th>0</th>\n",
       "      <td>580V74KT</td>\n",
       "      <td>0</td>\n",
       "      <td>0</td>\n",
       "      <td>0</td>\n",
       "      <td>1</td>\n",
       "      <td>1</td>\n",
       "      <td>1</td>\n",
       "      <td>15</td>\n",
       "      <td>8</td>\n",
       "      <td>1</td>\n",
       "      <td>94</td>\n",
       "      <td>4</td>\n",
       "      <td>NaN</td>\n",
       "      <td>0</td>\n",
       "      <td>1</td>\n",
       "      <td>NaN</td>\n",
       "      <td></td>\n",
       "      <td>77</td>\n",
       "      <td>203</td>\n",
       "    </tr>\n",
       "    <tr>\n",
       "      <th>1</th>\n",
       "      <td>298S54OK</td>\n",
       "      <td>1</td>\n",
       "      <td>0</td>\n",
       "      <td>0</td>\n",
       "      <td>1</td>\n",
       "      <td>0</td>\n",
       "      <td>1</td>\n",
       "      <td>15</td>\n",
       "      <td>3</td>\n",
       "      <td>1</td>\n",
       "      <td></td>\n",
       "      <td></td>\n",
       "      <td>NaN</td>\n",
       "      <td>0</td>\n",
       "      <td>0</td>\n",
       "      <td>NaN</td>\n",
       "      <td>1</td>\n",
       "      <td>53</td>\n",
       "      <td>68</td>\n",
       "    </tr>\n",
       "    <tr>\n",
       "      <th>2</th>\n",
       "      <td>268D25AO</td>\n",
       "      <td>1</td>\n",
       "      <td>1</td>\n",
       "      <td>0</td>\n",
       "      <td>0</td>\n",
       "      <td>0</td>\n",
       "      <td>1</td>\n",
       "      <td>15</td>\n",
       "      <td>11</td>\n",
       "      <td>1</td>\n",
       "      <td>67</td>\n",
       "      <td>2</td>\n",
       "      <td>NaN</td>\n",
       "      <td>0</td>\n",
       "      <td>1</td>\n",
       "      <td>0.0</td>\n",
       "      <td></td>\n",
       "      <td>50</td>\n",
       "      <td>38</td>\n",
       "    </tr>\n",
       "    <tr>\n",
       "      <th>3</th>\n",
       "      <td>312Q12WV</td>\n",
       "      <td>1</td>\n",
       "      <td>1</td>\n",
       "      <td>0</td>\n",
       "      <td>1</td>\n",
       "      <td>0</td>\n",
       "      <td>1</td>\n",
       "      <td>15</td>\n",
       "      <td>4</td>\n",
       "      <td>0</td>\n",
       "      <td>62</td>\n",
       "      <td>4</td>\n",
       "      <td></td>\n",
       "      <td>1</td>\n",
       "      <td>1</td>\n",
       "      <td>0.0</td>\n",
       "      <td>1</td>\n",
       "      <td>60</td>\n",
       "      <td>68</td>\n",
       "    </tr>\n",
       "    <tr>\n",
       "      <th>4</th>\n",
       "      <td>420R23VB</td>\n",
       "      <td>0</td>\n",
       "      <td>0</td>\n",
       "      <td>0</td>\n",
       "      <td>1</td>\n",
       "      <td>0</td>\n",
       "      <td>0</td>\n",
       "      <td>15</td>\n",
       "      <td>5</td>\n",
       "      <td>0</td>\n",
       "      <td>89</td>\n",
       "      <td>4</td>\n",
       "      <td></td>\n",
       "      <td>1</td>\n",
       "      <td>1</td>\n",
       "      <td>0.0</td>\n",
       "      <td></td>\n",
       "      <td>65</td>\n",
       "      <td>194</td>\n",
       "    </tr>\n",
       "  </tbody>\n",
       "</table>\n",
       "</div>"
      ],
      "text/plain": [
       "     FAKEID  Y2defect  Y1G5  Y1G4  Y1G3  Y1G2  Y1G1  Y1price  YEARS  BACKER  \\\n",
       "0  580V74KT         0     0     0     1     1     1       15      8       1   \n",
       "1  298S54OK         1     0     0     1     0     1       15      3       1   \n",
       "2  268D25AO         1     1     0     0     0     1       15     11       1   \n",
       "3  312Q12WV         1     1     0     1     0     1       15      4       0   \n",
       "4  420R23VB         0     0     0     1     0     0       15      5       0   \n",
       "\n",
       "  AGE INCOME CHILD GNDR OWNHOME  SPORT COMP  PCTMARR  HOMEVAL  \n",
       "0  94      4   NaN    0       1    NaN            77      203  \n",
       "1              NaN    0       0    NaN    1       53       68  \n",
       "2  67      2   NaN    0       1    0.0            50       38  \n",
       "3  62      4          1       1    0.0    1       60       68  \n",
       "4  89      4          1       1    0.0            65      194  "
      ]
     },
     "execution_count": 2,
     "metadata": {},
     "output_type": "execute_result"
    }
   ],
   "source": [
    "df=pd.read_excel(\"train_test_dataset.xlsx\")\n",
    "df.head()"
   ]
  },
  {
   "cell_type": "code",
   "execution_count": 3,
   "metadata": {},
   "outputs": [
    {
     "data": {
      "text/html": [
       "<div>\n",
       "<style>\n",
       "    .dataframe thead tr:only-child th {\n",
       "        text-align: right;\n",
       "    }\n",
       "\n",
       "    .dataframe thead th {\n",
       "        text-align: left;\n",
       "    }\n",
       "\n",
       "    .dataframe tbody tr th {\n",
       "        vertical-align: top;\n",
       "    }\n",
       "</style>\n",
       "<table border=\"1\" class=\"dataframe\">\n",
       "  <thead>\n",
       "    <tr style=\"text-align: right;\">\n",
       "      <th></th>\n",
       "      <th>FAKEID</th>\n",
       "      <th>Y2defect</th>\n",
       "      <th>Y1G5</th>\n",
       "      <th>Y1G4</th>\n",
       "      <th>Y1G3</th>\n",
       "      <th>Y1G2</th>\n",
       "      <th>Y1G1</th>\n",
       "      <th>Y1price</th>\n",
       "      <th>YEARS</th>\n",
       "      <th>BACKER</th>\n",
       "      <th>AGE</th>\n",
       "      <th>INCOME</th>\n",
       "      <th>CHILD</th>\n",
       "      <th>GNDR</th>\n",
       "      <th>OWNHOME</th>\n",
       "      <th>SPORT</th>\n",
       "      <th>COMP</th>\n",
       "      <th>PCTMARR</th>\n",
       "      <th>HOMEVAL</th>\n",
       "    </tr>\n",
       "  </thead>\n",
       "  <tbody>\n",
       "    <tr>\n",
       "      <th>0</th>\n",
       "      <td>580V74KT</td>\n",
       "      <td>0</td>\n",
       "      <td>0</td>\n",
       "      <td>0</td>\n",
       "      <td>1</td>\n",
       "      <td>1</td>\n",
       "      <td>1</td>\n",
       "      <td>15</td>\n",
       "      <td>8</td>\n",
       "      <td>1</td>\n",
       "      <td>94.0</td>\n",
       "      <td>4.0</td>\n",
       "      <td>NaN</td>\n",
       "      <td>0.0</td>\n",
       "      <td>1.0</td>\n",
       "      <td>NaN</td>\n",
       "      <td>NaN</td>\n",
       "      <td>77</td>\n",
       "      <td>203</td>\n",
       "    </tr>\n",
       "    <tr>\n",
       "      <th>1</th>\n",
       "      <td>298S54OK</td>\n",
       "      <td>1</td>\n",
       "      <td>0</td>\n",
       "      <td>0</td>\n",
       "      <td>1</td>\n",
       "      <td>0</td>\n",
       "      <td>1</td>\n",
       "      <td>15</td>\n",
       "      <td>3</td>\n",
       "      <td>1</td>\n",
       "      <td>NaN</td>\n",
       "      <td>NaN</td>\n",
       "      <td>NaN</td>\n",
       "      <td>0.0</td>\n",
       "      <td>0.0</td>\n",
       "      <td>NaN</td>\n",
       "      <td>1.0</td>\n",
       "      <td>53</td>\n",
       "      <td>68</td>\n",
       "    </tr>\n",
       "    <tr>\n",
       "      <th>2</th>\n",
       "      <td>268D25AO</td>\n",
       "      <td>1</td>\n",
       "      <td>1</td>\n",
       "      <td>0</td>\n",
       "      <td>0</td>\n",
       "      <td>0</td>\n",
       "      <td>1</td>\n",
       "      <td>15</td>\n",
       "      <td>11</td>\n",
       "      <td>1</td>\n",
       "      <td>67.0</td>\n",
       "      <td>2.0</td>\n",
       "      <td>NaN</td>\n",
       "      <td>0.0</td>\n",
       "      <td>1.0</td>\n",
       "      <td>0.0</td>\n",
       "      <td>NaN</td>\n",
       "      <td>50</td>\n",
       "      <td>38</td>\n",
       "    </tr>\n",
       "    <tr>\n",
       "      <th>3</th>\n",
       "      <td>312Q12WV</td>\n",
       "      <td>1</td>\n",
       "      <td>1</td>\n",
       "      <td>0</td>\n",
       "      <td>1</td>\n",
       "      <td>0</td>\n",
       "      <td>1</td>\n",
       "      <td>15</td>\n",
       "      <td>4</td>\n",
       "      <td>0</td>\n",
       "      <td>62.0</td>\n",
       "      <td>4.0</td>\n",
       "      <td>NaN</td>\n",
       "      <td>1.0</td>\n",
       "      <td>1.0</td>\n",
       "      <td>0.0</td>\n",
       "      <td>1.0</td>\n",
       "      <td>60</td>\n",
       "      <td>68</td>\n",
       "    </tr>\n",
       "    <tr>\n",
       "      <th>4</th>\n",
       "      <td>420R23VB</td>\n",
       "      <td>0</td>\n",
       "      <td>0</td>\n",
       "      <td>0</td>\n",
       "      <td>1</td>\n",
       "      <td>0</td>\n",
       "      <td>0</td>\n",
       "      <td>15</td>\n",
       "      <td>5</td>\n",
       "      <td>0</td>\n",
       "      <td>89.0</td>\n",
       "      <td>4.0</td>\n",
       "      <td>NaN</td>\n",
       "      <td>1.0</td>\n",
       "      <td>1.0</td>\n",
       "      <td>0.0</td>\n",
       "      <td>NaN</td>\n",
       "      <td>65</td>\n",
       "      <td>194</td>\n",
       "    </tr>\n",
       "  </tbody>\n",
       "</table>\n",
       "</div>"
      ],
      "text/plain": [
       "     FAKEID  Y2defect  Y1G5  Y1G4  Y1G3  Y1G2  Y1G1  Y1price  YEARS  BACKER  \\\n",
       "0  580V74KT         0     0     0     1     1     1       15      8       1   \n",
       "1  298S54OK         1     0     0     1     0     1       15      3       1   \n",
       "2  268D25AO         1     1     0     0     0     1       15     11       1   \n",
       "3  312Q12WV         1     1     0     1     0     1       15      4       0   \n",
       "4  420R23VB         0     0     0     1     0     0       15      5       0   \n",
       "\n",
       "    AGE  INCOME  CHILD  GNDR  OWNHOME  SPORT  COMP  PCTMARR  HOMEVAL  \n",
       "0  94.0     4.0    NaN   0.0      1.0    NaN   NaN       77      203  \n",
       "1   NaN     NaN    NaN   0.0      0.0    NaN   1.0       53       68  \n",
       "2  67.0     2.0    NaN   0.0      1.0    0.0   NaN       50       38  \n",
       "3  62.0     4.0    NaN   1.0      1.0    0.0   1.0       60       68  \n",
       "4  89.0     4.0    NaN   1.0      1.0    0.0   NaN       65      194  "
      ]
     },
     "execution_count": 3,
     "metadata": {},
     "output_type": "execute_result"
    }
   ],
   "source": [
    "df=df.replace(r'\\s+', np.nan, regex=True)\n",
    "df.head()"
   ]
  },
  {
   "cell_type": "code",
   "execution_count": 4,
   "metadata": {},
   "outputs": [
    {
     "name": "stdout",
     "output_type": "stream",
     "text": [
      "<class 'pandas.core.frame.DataFrame'>\n",
      "RangeIndex: 9216 entries, 0 to 9215\n",
      "Data columns (total 19 columns):\n",
      "FAKEID      9216 non-null object\n",
      "Y2defect    9216 non-null int64\n",
      "Y1G5        9216 non-null int64\n",
      "Y1G4        9216 non-null int64\n",
      "Y1G3        9216 non-null int64\n",
      "Y1G2        9216 non-null int64\n",
      "Y1G1        9216 non-null int64\n",
      "Y1price     9216 non-null int64\n",
      "YEARS       9216 non-null int64\n",
      "BACKER      9216 non-null int64\n",
      "AGE         7223 non-null float64\n",
      "INCOME      7272 non-null float64\n",
      "CHILD       582 non-null float64\n",
      "GNDR        8718 non-null float64\n",
      "OWNHOME     7217 non-null float64\n",
      "SPORT       4273 non-null float64\n",
      "COMP        1009 non-null float64\n",
      "PCTMARR     9216 non-null int64\n",
      "HOMEVAL     9216 non-null int64\n",
      "dtypes: float64(7), int64(11), object(1)\n",
      "memory usage: 1.3+ MB\n"
     ]
    }
   ],
   "source": [
    "df.info()"
   ]
  },
  {
   "cell_type": "code",
   "execution_count": 5,
   "metadata": {},
   "outputs": [
    {
     "data": {
      "text/plain": [
       "FAKEID         0\n",
       "Y2defect       0\n",
       "Y1G5           0\n",
       "Y1G4           0\n",
       "Y1G3           0\n",
       "Y1G2           0\n",
       "Y1G1           0\n",
       "Y1price        0\n",
       "YEARS          0\n",
       "BACKER         0\n",
       "AGE         1993\n",
       "INCOME      1944\n",
       "CHILD       8634\n",
       "GNDR         498\n",
       "OWNHOME     1999\n",
       "SPORT       4943\n",
       "COMP        8207\n",
       "PCTMARR        0\n",
       "HOMEVAL        0\n",
       "dtype: int64"
      ]
     },
     "execution_count": 5,
     "metadata": {},
     "output_type": "execute_result"
    }
   ],
   "source": [
    "df.isnull().sum()"
   ]
  },
  {
   "cell_type": "code",
   "execution_count": 6,
   "metadata": {
    "collapsed": true
   },
   "outputs": [],
   "source": [
    "# Combine the 5 games to total games.\n",
    "df['Total games'] = df['Y1G5'] + df['Y1G4']+ df['Y1G3']+ df['Y1G2']+ df['Y1G1']\n",
    "df=df.drop(['CHILD','COMP','SPORT','Y1G5','Y1G4','Y1G3','Y1G2','Y1G1','OWNHOME'], axis=1)"
   ]
  },
  {
   "cell_type": "code",
   "execution_count": 7,
   "metadata": {},
   "outputs": [
    {
     "data": {
      "text/html": [
       "<div>\n",
       "<style>\n",
       "    .dataframe thead tr:only-child th {\n",
       "        text-align: right;\n",
       "    }\n",
       "\n",
       "    .dataframe thead th {\n",
       "        text-align: left;\n",
       "    }\n",
       "\n",
       "    .dataframe tbody tr th {\n",
       "        vertical-align: top;\n",
       "    }\n",
       "</style>\n",
       "<table border=\"1\" class=\"dataframe\">\n",
       "  <thead>\n",
       "    <tr style=\"text-align: right;\">\n",
       "      <th></th>\n",
       "      <th>FAKEID</th>\n",
       "      <th>Y2defect</th>\n",
       "      <th>Y1price</th>\n",
       "      <th>YEARS</th>\n",
       "      <th>BACKER</th>\n",
       "      <th>AGE</th>\n",
       "      <th>INCOME</th>\n",
       "      <th>GNDR</th>\n",
       "      <th>PCTMARR</th>\n",
       "      <th>HOMEVAL</th>\n",
       "      <th>Total games</th>\n",
       "    </tr>\n",
       "  </thead>\n",
       "  <tbody>\n",
       "    <tr>\n",
       "      <th>0</th>\n",
       "      <td>580V74KT</td>\n",
       "      <td>0</td>\n",
       "      <td>15</td>\n",
       "      <td>8</td>\n",
       "      <td>1</td>\n",
       "      <td>94.0</td>\n",
       "      <td>4.0</td>\n",
       "      <td>0.0</td>\n",
       "      <td>77</td>\n",
       "      <td>203</td>\n",
       "      <td>3</td>\n",
       "    </tr>\n",
       "    <tr>\n",
       "      <th>1</th>\n",
       "      <td>298S54OK</td>\n",
       "      <td>1</td>\n",
       "      <td>15</td>\n",
       "      <td>3</td>\n",
       "      <td>1</td>\n",
       "      <td>NaN</td>\n",
       "      <td>NaN</td>\n",
       "      <td>0.0</td>\n",
       "      <td>53</td>\n",
       "      <td>68</td>\n",
       "      <td>2</td>\n",
       "    </tr>\n",
       "    <tr>\n",
       "      <th>2</th>\n",
       "      <td>268D25AO</td>\n",
       "      <td>1</td>\n",
       "      <td>15</td>\n",
       "      <td>11</td>\n",
       "      <td>1</td>\n",
       "      <td>67.0</td>\n",
       "      <td>2.0</td>\n",
       "      <td>0.0</td>\n",
       "      <td>50</td>\n",
       "      <td>38</td>\n",
       "      <td>2</td>\n",
       "    </tr>\n",
       "    <tr>\n",
       "      <th>3</th>\n",
       "      <td>312Q12WV</td>\n",
       "      <td>1</td>\n",
       "      <td>15</td>\n",
       "      <td>4</td>\n",
       "      <td>0</td>\n",
       "      <td>62.0</td>\n",
       "      <td>4.0</td>\n",
       "      <td>1.0</td>\n",
       "      <td>60</td>\n",
       "      <td>68</td>\n",
       "      <td>3</td>\n",
       "    </tr>\n",
       "    <tr>\n",
       "      <th>4</th>\n",
       "      <td>420R23VB</td>\n",
       "      <td>0</td>\n",
       "      <td>15</td>\n",
       "      <td>5</td>\n",
       "      <td>0</td>\n",
       "      <td>89.0</td>\n",
       "      <td>4.0</td>\n",
       "      <td>1.0</td>\n",
       "      <td>65</td>\n",
       "      <td>194</td>\n",
       "      <td>1</td>\n",
       "    </tr>\n",
       "  </tbody>\n",
       "</table>\n",
       "</div>"
      ],
      "text/plain": [
       "     FAKEID  Y2defect  Y1price  YEARS  BACKER   AGE  INCOME  GNDR  PCTMARR  \\\n",
       "0  580V74KT         0       15      8       1  94.0     4.0   0.0       77   \n",
       "1  298S54OK         1       15      3       1   NaN     NaN   0.0       53   \n",
       "2  268D25AO         1       15     11       1  67.0     2.0   0.0       50   \n",
       "3  312Q12WV         1       15      4       0  62.0     4.0   1.0       60   \n",
       "4  420R23VB         0       15      5       0  89.0     4.0   1.0       65   \n",
       "\n",
       "   HOMEVAL  Total games  \n",
       "0      203            3  \n",
       "1       68            2  \n",
       "2       38            2  \n",
       "3       68            3  \n",
       "4      194            1  "
      ]
     },
     "execution_count": 7,
     "metadata": {},
     "output_type": "execute_result"
    }
   ],
   "source": [
    "df.head()"
   ]
  },
  {
   "cell_type": "code",
   "execution_count": 8,
   "metadata": {},
   "outputs": [
    {
     "data": {
      "text/plain": [
       "FAKEID            0\n",
       "Y2defect          0\n",
       "Y1price           0\n",
       "YEARS             0\n",
       "BACKER            0\n",
       "AGE            1993\n",
       "INCOME         1944\n",
       "GNDR            498\n",
       "PCTMARR           0\n",
       "HOMEVAL           0\n",
       "Total games       0\n",
       "dtype: int64"
      ]
     },
     "execution_count": 8,
     "metadata": {},
     "output_type": "execute_result"
    }
   ],
   "source": [
    "df.isnull().sum()"
   ]
  },
  {
   "cell_type": "code",
   "execution_count": 9,
   "metadata": {},
   "outputs": [
    {
     "data": {
      "text/html": [
       "<div>\n",
       "<style>\n",
       "    .dataframe thead tr:only-child th {\n",
       "        text-align: right;\n",
       "    }\n",
       "\n",
       "    .dataframe thead th {\n",
       "        text-align: left;\n",
       "    }\n",
       "\n",
       "    .dataframe tbody tr th {\n",
       "        vertical-align: top;\n",
       "    }\n",
       "</style>\n",
       "<table border=\"1\" class=\"dataframe\">\n",
       "  <thead>\n",
       "    <tr style=\"text-align: right;\">\n",
       "      <th></th>\n",
       "      <th>FAKEID</th>\n",
       "      <th>Y2defect</th>\n",
       "      <th>Y1price</th>\n",
       "      <th>YEARS</th>\n",
       "      <th>BACKER</th>\n",
       "      <th>AGE</th>\n",
       "      <th>INCOME</th>\n",
       "      <th>GNDR</th>\n",
       "      <th>PCTMARR</th>\n",
       "      <th>HOMEVAL</th>\n",
       "      <th>Total games</th>\n",
       "    </tr>\n",
       "  </thead>\n",
       "  <tbody>\n",
       "    <tr>\n",
       "      <th>0</th>\n",
       "      <td>580V74KT</td>\n",
       "      <td>0</td>\n",
       "      <td>15</td>\n",
       "      <td>8</td>\n",
       "      <td>1</td>\n",
       "      <td>94.0</td>\n",
       "      <td>4.0</td>\n",
       "      <td>0.0</td>\n",
       "      <td>77</td>\n",
       "      <td>203</td>\n",
       "      <td>3</td>\n",
       "    </tr>\n",
       "    <tr>\n",
       "      <th>2</th>\n",
       "      <td>268D25AO</td>\n",
       "      <td>1</td>\n",
       "      <td>15</td>\n",
       "      <td>11</td>\n",
       "      <td>1</td>\n",
       "      <td>67.0</td>\n",
       "      <td>2.0</td>\n",
       "      <td>0.0</td>\n",
       "      <td>50</td>\n",
       "      <td>38</td>\n",
       "      <td>2</td>\n",
       "    </tr>\n",
       "    <tr>\n",
       "      <th>3</th>\n",
       "      <td>312Q12WV</td>\n",
       "      <td>1</td>\n",
       "      <td>15</td>\n",
       "      <td>4</td>\n",
       "      <td>0</td>\n",
       "      <td>62.0</td>\n",
       "      <td>4.0</td>\n",
       "      <td>1.0</td>\n",
       "      <td>60</td>\n",
       "      <td>68</td>\n",
       "      <td>3</td>\n",
       "    </tr>\n",
       "    <tr>\n",
       "      <th>4</th>\n",
       "      <td>420R23VB</td>\n",
       "      <td>0</td>\n",
       "      <td>15</td>\n",
       "      <td>5</td>\n",
       "      <td>0</td>\n",
       "      <td>89.0</td>\n",
       "      <td>4.0</td>\n",
       "      <td>1.0</td>\n",
       "      <td>65</td>\n",
       "      <td>194</td>\n",
       "      <td>1</td>\n",
       "    </tr>\n",
       "    <tr>\n",
       "      <th>5</th>\n",
       "      <td>611B52LL</td>\n",
       "      <td>1</td>\n",
       "      <td>15</td>\n",
       "      <td>2</td>\n",
       "      <td>0</td>\n",
       "      <td>77.0</td>\n",
       "      <td>0.0</td>\n",
       "      <td>0.0</td>\n",
       "      <td>54</td>\n",
       "      <td>92</td>\n",
       "      <td>1</td>\n",
       "    </tr>\n",
       "  </tbody>\n",
       "</table>\n",
       "</div>"
      ],
      "text/plain": [
       "     FAKEID  Y2defect  Y1price  YEARS  BACKER   AGE  INCOME  GNDR  PCTMARR  \\\n",
       "0  580V74KT         0       15      8       1  94.0     4.0   0.0       77   \n",
       "2  268D25AO         1       15     11       1  67.0     2.0   0.0       50   \n",
       "3  312Q12WV         1       15      4       0  62.0     4.0   1.0       60   \n",
       "4  420R23VB         0       15      5       0  89.0     4.0   1.0       65   \n",
       "5  611B52LL         1       15      2       0  77.0     0.0   0.0       54   \n",
       "\n",
       "   HOMEVAL  Total games  \n",
       "0      203            3  \n",
       "2       38            2  \n",
       "3       68            3  \n",
       "4      194            1  \n",
       "5       92            1  "
      ]
     },
     "execution_count": 9,
     "metadata": {},
     "output_type": "execute_result"
    }
   ],
   "source": [
    "df1=df.dropna()\n",
    "df1.head()"
   ]
  },
  {
   "cell_type": "code",
   "execution_count": 10,
   "metadata": {},
   "outputs": [
    {
     "name": "stdout",
     "output_type": "stream",
     "text": [
      "<class 'pandas.core.frame.DataFrame'>\n",
      "Int64Index: 6214 entries, 0 to 9215\n",
      "Data columns (total 11 columns):\n",
      "FAKEID         6214 non-null object\n",
      "Y2defect       6214 non-null int64\n",
      "Y1price        6214 non-null int64\n",
      "YEARS          6214 non-null int64\n",
      "BACKER         6214 non-null int64\n",
      "AGE            6214 non-null float64\n",
      "INCOME         6214 non-null float64\n",
      "GNDR           6214 non-null float64\n",
      "PCTMARR        6214 non-null int64\n",
      "HOMEVAL        6214 non-null int64\n",
      "Total games    6214 non-null int64\n",
      "dtypes: float64(3), int64(7), object(1)\n",
      "memory usage: 582.6+ KB\n"
     ]
    }
   ],
   "source": [
    "df1.info()"
   ]
  },
  {
   "cell_type": "markdown",
   "metadata": {},
   "source": [
    "### Data visualization"
   ]
  },
  {
   "cell_type": "code",
   "execution_count": 11,
   "metadata": {},
   "outputs": [
    {
     "data": {
      "text/plain": [
       "array([[<matplotlib.axes._subplots.AxesSubplot object at 0x000000000866DCC0>]], dtype=object)"
      ]
     },
     "execution_count": 11,
     "metadata": {},
     "output_type": "execute_result"
    },
    {
     "data": {
      "image/png": "[encoded data removed]",
      "text/plain": [
       "<matplotlib.figure.Figure at 0x10c29d68>"
      ]
     },
     "metadata": {},
     "output_type": "display_data"
    }
   ],
   "source": [
    "df1.hist('Total games', figsize=(3,3))"
   ]
  },
  {
   "cell_type": "code",
   "execution_count": 12,
   "metadata": {},
   "outputs": [
    {
     "data": {
      "text/plain": [
       "array([[<matplotlib.axes._subplots.AxesSubplot object at 0x00000000117EA7F0>]], dtype=object)"
      ]
     },
     "execution_count": 12,
     "metadata": {},
     "output_type": "execute_result"
    },
    {
     "data": {
      "image/png": "[encoded data removed]",
      "text/plain": [
       "<matplotlib.figure.Figure at 0x110c7ef0>"
      ]
     },
     "metadata": {},
     "output_type": "display_data"
    }
   ],
   "source": [
    "df1.hist('AGE', figsize=(3,3))"
   ]
  },
  {
   "cell_type": "code",
   "execution_count": 13,
   "metadata": {},
   "outputs": [
    {
     "data": {
      "text/plain": [
       "array([[<matplotlib.axes._subplots.AxesSubplot object at 0x000000001180FD30>]], dtype=object)"
      ]
     },
     "execution_count": 13,
     "metadata": {},
     "output_type": "execute_result"
    },
    {
     "data": {
      "image/png": "[encoded data removed]",
      "text/plain": [
       "<matplotlib.figure.Figure at 0x11943ef0>"
      ]
     },
     "metadata": {},
     "output_type": "display_data"
    }
   ],
   "source": [
    "df1.hist('INCOME', figsize=(4,3))"
   ]
  },
  {
   "cell_type": "code",
   "execution_count": 14,
   "metadata": {},
   "outputs": [
    {
     "data": {
      "text/plain": [
       "array([[<matplotlib.axes._subplots.AxesSubplot object at 0x0000000011A91A20>]], dtype=object)"
      ]
     },
     "execution_count": 14,
     "metadata": {},
     "output_type": "execute_result"
    },
    {
     "data": {
      "image/png": "[encoded data removed]",
      "text/plain": [
       "<matplotlib.figure.Figure at 0x118ed630>"
      ]
     },
     "metadata": {},
     "output_type": "display_data"
    }
   ],
   "source": [
    "df1.hist('GNDR', figsize=(3,3))"
   ]
  },
  {
   "cell_type": "code",
   "execution_count": 15,
   "metadata": {},
   "outputs": [
    {
     "data": {
      "text/plain": [
       "<seaborn.axisgrid.FacetGrid at 0x1084b0f0>"
      ]
     },
     "execution_count": 15,
     "metadata": {},
     "output_type": "execute_result"
    },
    {
     "data": {
      "image/png": "[encoded data removed]",
      "text/plain": [
       "<matplotlib.figure.Figure at 0x1084bb00>"
      ]
     },
     "metadata": {},
     "output_type": "display_data"
    }
   ],
   "source": [
    "sns.factorplot(\"AGE\", \"Total games\", data=df1, size=7)"
   ]
  },
  {
   "cell_type": "code",
   "execution_count": 16,
   "metadata": {},
   "outputs": [
    {
     "data": {
      "text/plain": [
       "<seaborn.axisgrid.FacetGrid at 0x10d51160>"
      ]
     },
     "execution_count": 16,
     "metadata": {},
     "output_type": "execute_result"
    },
    {
     "data": {
      "image/png": "[encoded data removed]",
      "text/plain": [
       "<matplotlib.figure.Figure at 0x11f50748>"
      ]
     },
     "metadata": {},
     "output_type": "display_data"
    }
   ],
   "source": [
    "sns.factorplot(\"INCOME\", \"Total games\", data=df1, size=7)"
   ]
  },
  {
   "cell_type": "code",
   "execution_count": 17,
   "metadata": {},
   "outputs": [
    {
     "data": {
      "text/plain": [
       "<seaborn.axisgrid.FacetGrid at 0x1247c128>"
      ]
     },
     "execution_count": 17,
     "metadata": {},
     "output_type": "execute_result"
    },
    {
     "data": {
      "image/png": "[encoded data removed]",
      "text/plain": [
       "<matplotlib.figure.Figure at 0x12463908>"
      ]
     },
     "metadata": {},
     "output_type": "display_data"
    }
   ],
   "source": [
    "sns.factorplot(\"GNDR\", \"Total games\", data=df1, size=7)"
   ]
  },
  {
   "cell_type": "code",
   "execution_count": 18,
   "metadata": {},
   "outputs": [
    {
     "data": {
      "text/plain": [
       "<seaborn.axisgrid.FacetGrid at 0x1288fc88>"
      ]
     },
     "execution_count": 18,
     "metadata": {},
     "output_type": "execute_result"
    },
    {
     "data": {
      "image/png": "[encoded data removed]",
      "text/plain": [
       "<matplotlib.figure.Figure at 0x1288f198>"
      ]
     },
     "metadata": {},
     "output_type": "display_data"
    }
   ],
   "source": [
    "sns.factorplot(\"BACKER\", \"Total games\", data=df1, size=7)"
   ]
  },
  {
   "cell_type": "code",
   "execution_count": 19,
   "metadata": {},
   "outputs": [
    {
     "data": {
      "text/html": [
       "<div>\n",
       "<style>\n",
       "    .dataframe thead tr:only-child th {\n",
       "        text-align: right;\n",
       "    }\n",
       "\n",
       "    .dataframe thead th {\n",
       "        text-align: left;\n",
       "    }\n",
       "\n",
       "    .dataframe tbody tr th {\n",
       "        vertical-align: top;\n",
       "    }\n",
       "</style>\n",
       "<table border=\"1\" class=\"dataframe\">\n",
       "  <thead>\n",
       "    <tr style=\"text-align: right;\">\n",
       "      <th></th>\n",
       "      <th>Y2defect</th>\n",
       "      <th>Y1price</th>\n",
       "      <th>YEARS</th>\n",
       "      <th>BACKER</th>\n",
       "      <th>AGE</th>\n",
       "      <th>INCOME</th>\n",
       "      <th>GNDR</th>\n",
       "      <th>PCTMARR</th>\n",
       "      <th>HOMEVAL</th>\n",
       "    </tr>\n",
       "    <tr>\n",
       "      <th>Total games</th>\n",
       "      <th></th>\n",
       "      <th></th>\n",
       "      <th></th>\n",
       "      <th></th>\n",
       "      <th></th>\n",
       "      <th></th>\n",
       "      <th></th>\n",
       "      <th></th>\n",
       "      <th></th>\n",
       "    </tr>\n",
       "  </thead>\n",
       "  <tbody>\n",
       "    <tr>\n",
       "      <th>1</th>\n",
       "      <td>0.610959</td>\n",
       "      <td>19.489237</td>\n",
       "      <td>5.677495</td>\n",
       "      <td>0.358121</td>\n",
       "      <td>60.229027</td>\n",
       "      <td>2.886306</td>\n",
       "      <td>0.457155</td>\n",
       "      <td>57.727202</td>\n",
       "      <td>113.106458</td>\n",
       "    </tr>\n",
       "    <tr>\n",
       "      <th>2</th>\n",
       "      <td>0.523440</td>\n",
       "      <td>20.094691</td>\n",
       "      <td>6.090655</td>\n",
       "      <td>0.449860</td>\n",
       "      <td>60.761206</td>\n",
       "      <td>2.884872</td>\n",
       "      <td>0.450197</td>\n",
       "      <td>58.324744</td>\n",
       "      <td>112.087861</td>\n",
       "    </tr>\n",
       "    <tr>\n",
       "      <th>3</th>\n",
       "      <td>0.397712</td>\n",
       "      <td>20.331808</td>\n",
       "      <td>7.060870</td>\n",
       "      <td>0.604577</td>\n",
       "      <td>62.884790</td>\n",
       "      <td>2.909505</td>\n",
       "      <td>0.443587</td>\n",
       "      <td>58.516705</td>\n",
       "      <td>113.040275</td>\n",
       "    </tr>\n",
       "    <tr>\n",
       "      <th>4</th>\n",
       "      <td>0.390760</td>\n",
       "      <td>20.014437</td>\n",
       "      <td>7.236766</td>\n",
       "      <td>0.636189</td>\n",
       "      <td>62.212121</td>\n",
       "      <td>2.826087</td>\n",
       "      <td>0.434827</td>\n",
       "      <td>58.490857</td>\n",
       "      <td>108.769971</td>\n",
       "    </tr>\n",
       "    <tr>\n",
       "      <th>5</th>\n",
       "      <td>0.398148</td>\n",
       "      <td>19.629630</td>\n",
       "      <td>7.912037</td>\n",
       "      <td>0.763889</td>\n",
       "      <td>64.587209</td>\n",
       "      <td>2.779141</td>\n",
       "      <td>0.383495</td>\n",
       "      <td>58.546296</td>\n",
       "      <td>107.361111</td>\n",
       "    </tr>\n",
       "  </tbody>\n",
       "</table>\n",
       "</div>"
      ],
      "text/plain": [
       "             Y2defect    Y1price     YEARS    BACKER        AGE    INCOME  \\\n",
       "Total games                                                                 \n",
       "1            0.610959  19.489237  5.677495  0.358121  60.229027  2.886306   \n",
       "2            0.523440  20.094691  6.090655  0.449860  60.761206  2.884872   \n",
       "3            0.397712  20.331808  7.060870  0.604577  62.884790  2.909505   \n",
       "4            0.390760  20.014437  7.236766  0.636189  62.212121  2.826087   \n",
       "5            0.398148  19.629630  7.912037  0.763889  64.587209  2.779141   \n",
       "\n",
       "                 GNDR    PCTMARR     HOMEVAL  \n",
       "Total games                                   \n",
       "1            0.457155  57.727202  113.106458  \n",
       "2            0.450197  58.324744  112.087861  \n",
       "3            0.443587  58.516705  113.040275  \n",
       "4            0.434827  58.490857  108.769971  \n",
       "5            0.383495  58.546296  107.361111  "
      ]
     },
     "execution_count": 19,
     "metadata": {},
     "output_type": "execute_result"
    }
   ],
   "source": [
    "df.groupby(['Total games']).mean()"
   ]
  },
  {
   "cell_type": "markdown",
   "metadata": {},
   "source": [
    "### Exploratory data analysis"
   ]
  },
  {
   "cell_type": "code",
   "execution_count": 20,
   "metadata": {},
   "outputs": [
    {
     "data": {
      "text/html": [
       "<div>\n",
       "<style>\n",
       "    .dataframe thead tr:only-child th {\n",
       "        text-align: right;\n",
       "    }\n",
       "\n",
       "    .dataframe thead th {\n",
       "        text-align: left;\n",
       "    }\n",
       "\n",
       "    .dataframe tbody tr th {\n",
       "        vertical-align: top;\n",
       "    }\n",
       "</style>\n",
       "<table border=\"1\" class=\"dataframe\">\n",
       "  <thead>\n",
       "    <tr style=\"text-align: right;\">\n",
       "      <th></th>\n",
       "      <th>Y2defect</th>\n",
       "      <th>Y1price</th>\n",
       "      <th>YEARS</th>\n",
       "      <th>BACKER</th>\n",
       "      <th>AGE</th>\n",
       "      <th>INCOME</th>\n",
       "      <th>GNDR</th>\n",
       "      <th>PCTMARR</th>\n",
       "      <th>HOMEVAL</th>\n",
       "      <th>Total games</th>\n",
       "    </tr>\n",
       "  </thead>\n",
       "  <tbody>\n",
       "    <tr>\n",
       "      <th>Y2defect</th>\n",
       "      <td>1.000000</td>\n",
       "      <td>-0.011480</td>\n",
       "      <td>-0.127372</td>\n",
       "      <td>-0.181988</td>\n",
       "      <td>-0.020781</td>\n",
       "      <td>0.011495</td>\n",
       "      <td>-0.002571</td>\n",
       "      <td>-0.011746</td>\n",
       "      <td>0.035777</td>\n",
       "      <td>-0.158519</td>\n",
       "    </tr>\n",
       "    <tr>\n",
       "      <th>Y1price</th>\n",
       "      <td>-0.011480</td>\n",
       "      <td>1.000000</td>\n",
       "      <td>0.037318</td>\n",
       "      <td>-0.097641</td>\n",
       "      <td>-0.038765</td>\n",
       "      <td>0.076975</td>\n",
       "      <td>0.050314</td>\n",
       "      <td>-0.011971</td>\n",
       "      <td>0.088744</td>\n",
       "      <td>0.027867</td>\n",
       "    </tr>\n",
       "    <tr>\n",
       "      <th>YEARS</th>\n",
       "      <td>-0.127372</td>\n",
       "      <td>0.037318</td>\n",
       "      <td>1.000000</td>\n",
       "      <td>0.527847</td>\n",
       "      <td>0.317249</td>\n",
       "      <td>-0.093972</td>\n",
       "      <td>0.002046</td>\n",
       "      <td>0.006448</td>\n",
       "      <td>-0.030175</td>\n",
       "      <td>0.214446</td>\n",
       "    </tr>\n",
       "    <tr>\n",
       "      <th>BACKER</th>\n",
       "      <td>-0.181988</td>\n",
       "      <td>-0.097641</td>\n",
       "      <td>0.527847</td>\n",
       "      <td>1.000000</td>\n",
       "      <td>0.200165</td>\n",
       "      <td>-0.092481</td>\n",
       "      <td>-0.010527</td>\n",
       "      <td>0.028137</td>\n",
       "      <td>-0.075744</td>\n",
       "      <td>0.225798</td>\n",
       "    </tr>\n",
       "    <tr>\n",
       "      <th>AGE</th>\n",
       "      <td>-0.020781</td>\n",
       "      <td>-0.038765</td>\n",
       "      <td>0.317249</td>\n",
       "      <td>0.200165</td>\n",
       "      <td>1.000000</td>\n",
       "      <td>-0.249764</td>\n",
       "      <td>0.019354</td>\n",
       "      <td>-0.058039</td>\n",
       "      <td>-0.010251</td>\n",
       "      <td>0.054177</td>\n",
       "    </tr>\n",
       "    <tr>\n",
       "      <th>INCOME</th>\n",
       "      <td>0.011495</td>\n",
       "      <td>0.076975</td>\n",
       "      <td>-0.093972</td>\n",
       "      <td>-0.092481</td>\n",
       "      <td>-0.249764</td>\n",
       "      <td>1.000000</td>\n",
       "      <td>0.075569</td>\n",
       "      <td>0.159971</td>\n",
       "      <td>0.313184</td>\n",
       "      <td>-0.003783</td>\n",
       "    </tr>\n",
       "    <tr>\n",
       "      <th>GNDR</th>\n",
       "      <td>-0.002571</td>\n",
       "      <td>0.050314</td>\n",
       "      <td>0.002046</td>\n",
       "      <td>-0.010527</td>\n",
       "      <td>0.019354</td>\n",
       "      <td>0.075569</td>\n",
       "      <td>1.000000</td>\n",
       "      <td>0.052564</td>\n",
       "      <td>0.031960</td>\n",
       "      <td>0.000095</td>\n",
       "    </tr>\n",
       "    <tr>\n",
       "      <th>PCTMARR</th>\n",
       "      <td>-0.011746</td>\n",
       "      <td>-0.011971</td>\n",
       "      <td>0.006448</td>\n",
       "      <td>0.028137</td>\n",
       "      <td>-0.058039</td>\n",
       "      <td>0.159971</td>\n",
       "      <td>0.052564</td>\n",
       "      <td>1.000000</td>\n",
       "      <td>0.055076</td>\n",
       "      <td>0.027692</td>\n",
       "    </tr>\n",
       "    <tr>\n",
       "      <th>HOMEVAL</th>\n",
       "      <td>0.035777</td>\n",
       "      <td>0.088744</td>\n",
       "      <td>-0.030175</td>\n",
       "      <td>-0.075744</td>\n",
       "      <td>-0.010251</td>\n",
       "      <td>0.313184</td>\n",
       "      <td>0.031960</td>\n",
       "      <td>0.055076</td>\n",
       "      <td>1.000000</td>\n",
       "      <td>-0.001512</td>\n",
       "    </tr>\n",
       "    <tr>\n",
       "      <th>Total games</th>\n",
       "      <td>-0.158519</td>\n",
       "      <td>0.027867</td>\n",
       "      <td>0.214446</td>\n",
       "      <td>0.225798</td>\n",
       "      <td>0.054177</td>\n",
       "      <td>-0.003783</td>\n",
       "      <td>0.000095</td>\n",
       "      <td>0.027692</td>\n",
       "      <td>-0.001512</td>\n",
       "      <td>1.000000</td>\n",
       "    </tr>\n",
       "  </tbody>\n",
       "</table>\n",
       "</div>"
      ],
      "text/plain": [
       "             Y2defect   Y1price     YEARS    BACKER       AGE    INCOME  \\\n",
       "Y2defect     1.000000 -0.011480 -0.127372 -0.181988 -0.020781  0.011495   \n",
       "Y1price     -0.011480  1.000000  0.037318 -0.097641 -0.038765  0.076975   \n",
       "YEARS       -0.127372  0.037318  1.000000  0.527847  0.317249 -0.093972   \n",
       "BACKER      -0.181988 -0.097641  0.527847  1.000000  0.200165 -0.092481   \n",
       "AGE         -0.020781 -0.038765  0.317249  0.200165  1.000000 -0.249764   \n",
       "INCOME       0.011495  0.076975 -0.093972 -0.092481 -0.249764  1.000000   \n",
       "GNDR        -0.002571  0.050314  0.002046 -0.010527  0.019354  0.075569   \n",
       "PCTMARR     -0.011746 -0.011971  0.006448  0.028137 -0.058039  0.159971   \n",
       "HOMEVAL      0.035777  0.088744 -0.030175 -0.075744 -0.010251  0.313184   \n",
       "Total games -0.158519  0.027867  0.214446  0.225798  0.054177 -0.003783   \n",
       "\n",
       "                 GNDR   PCTMARR   HOMEVAL  Total games  \n",
       "Y2defect    -0.002571 -0.011746  0.035777    -0.158519  \n",
       "Y1price      0.050314 -0.011971  0.088744     0.027867  \n",
       "YEARS        0.002046  0.006448 -0.030175     0.214446  \n",
       "BACKER      -0.010527  0.028137 -0.075744     0.225798  \n",
       "AGE          0.019354 -0.058039 -0.010251     0.054177  \n",
       "INCOME       0.075569  0.159971  0.313184    -0.003783  \n",
       "GNDR         1.000000  0.052564  0.031960     0.000095  \n",
       "PCTMARR      0.052564  1.000000  0.055076     0.027692  \n",
       "HOMEVAL      0.031960  0.055076  1.000000    -0.001512  \n",
       "Total games  0.000095  0.027692 -0.001512     1.000000  "
      ]
     },
     "execution_count": 20,
     "metadata": {},
     "output_type": "execute_result"
    }
   ],
   "source": [
    "df1.corr()"
   ]
  },
  {
   "cell_type": "code",
   "execution_count": 31,
   "metadata": {},
   "outputs": [
    {
     "data": {
      "text/html": [
       "<div>\n",
       "<style>\n",
       "    .dataframe thead tr:only-child th {\n",
       "        text-align: right;\n",
       "    }\n",
       "\n",
       "    .dataframe thead th {\n",
       "        text-align: left;\n",
       "    }\n",
       "\n",
       "    .dataframe tbody tr th {\n",
       "        vertical-align: top;\n",
       "    }\n",
       "</style>\n",
       "<table border=\"1\" class=\"dataframe\">\n",
       "  <thead>\n",
       "    <tr style=\"text-align: right;\">\n",
       "      <th></th>\n",
       "      <th>Total games</th>\n",
       "    </tr>\n",
       "  </thead>\n",
       "  <tbody>\n",
       "    <tr>\n",
       "      <th>BACKER</th>\n",
       "      <td>0.225798</td>\n",
       "    </tr>\n",
       "    <tr>\n",
       "      <th>YEARS</th>\n",
       "      <td>0.214446</td>\n",
       "    </tr>\n",
       "    <tr>\n",
       "      <th>AGE</th>\n",
       "      <td>0.054177</td>\n",
       "    </tr>\n",
       "    <tr>\n",
       "      <th>Y1price</th>\n",
       "      <td>0.027867</td>\n",
       "    </tr>\n",
       "    <tr>\n",
       "      <th>PCTMARR</th>\n",
       "      <td>0.027692</td>\n",
       "    </tr>\n",
       "    <tr>\n",
       "      <th>GNDR</th>\n",
       "      <td>0.000095</td>\n",
       "    </tr>\n",
       "    <tr>\n",
       "      <th>HOMEVAL</th>\n",
       "      <td>-0.001512</td>\n",
       "    </tr>\n",
       "    <tr>\n",
       "      <th>INCOME</th>\n",
       "      <td>-0.003783</td>\n",
       "    </tr>\n",
       "    <tr>\n",
       "      <th>Y2defect</th>\n",
       "      <td>-0.158519</td>\n",
       "    </tr>\n",
       "  </tbody>\n",
       "</table>\n",
       "</div>"
      ],
      "text/plain": [
       "          Total games\n",
       "BACKER       0.225798\n",
       "YEARS        0.214446\n",
       "AGE          0.054177\n",
       "Y1price      0.027867\n",
       "PCTMARR      0.027692\n",
       "GNDR         0.000095\n",
       "HOMEVAL     -0.001512\n",
       "INCOME      -0.003783\n",
       "Y2defect    -0.158519"
      ]
     },
     "execution_count": 31,
     "metadata": {},
     "output_type": "execute_result"
    }
   ],
   "source": [
    "corr = pd.DataFrame(df1.corr()['Total games'].drop('Total games'))\n",
    "corr.sort_values('Total games', ascending = False)"
   ]
  },
  {
   "cell_type": "code",
   "execution_count": 21,
   "metadata": {},
   "outputs": [
    {
     "data": {
      "text/plain": [
       "<matplotlib.axes._subplots.AxesSubplot at 0x12cd2a90>"
      ]
     },
     "execution_count": 21,
     "metadata": {},
     "output_type": "execute_result"
    },
    {
     "data": {
      "image/png": "[encoded data removed]",
      "text/plain": [
       "<matplotlib.figure.Figure at 0x12ccbb38>"
      ]
     },
     "metadata": {},
     "output_type": "display_data"
    }
   ],
   "source": [
    "plt.figure(figsize=(12,12))\n",
    "sns.heatmap(df1.corr(), annot=True)"
   ]
  },
  {
   "cell_type": "code",
   "execution_count": 22,
   "metadata": {},
   "outputs": [
    {
     "name": "stdout",
     "output_type": "stream",
     "text": [
      "The t-statistic is 18.268 and the p-value is 0.000.\n"
     ]
    }
   ],
   "source": [
    "import scipy.stats as stats\n",
    "backer_yes_totalgames = df1[df1['BACKER'] == 1]['Total games']\n",
    "backer_no_totalgames = df1[df1['BACKER'] == 0]['Total games']\n",
    "stats.ttest_ind(backer_yes_totalgames, backer_no_totalgames)\n",
    "two_sample= stats.ttest_ind(backer_yes_totalgames, backer_no_totalgames)\n",
    "print \"The t-statistic is %.3f and the p-value is %.3f.\" % two_sample"
   ]
  },
  {
   "cell_type": "markdown",
   "metadata": {},
   "source": [
    "- with low p-value, we can reject null hypothesis. It indicates there is correlation between backer and total games."
   ]
  },
  {
   "cell_type": "markdown",
   "metadata": {},
   "source": [
    "# Model Development"
   ]
  },
  {
   "cell_type": "code",
   "execution_count": 23,
   "metadata": {
    "collapsed": true
   },
   "outputs": [],
   "source": [
    "y = df1['Y2defect']\n",
    "X = df1.drop(['Y2defect','FAKEID'], axis=1)"
   ]
  },
  {
   "cell_type": "code",
   "execution_count": 24,
   "metadata": {},
   "outputs": [
    {
     "data": {
      "text/plain": [
       "DecisionTreeClassifier(class_weight=None, criterion='gini', max_depth=None,\n",
       "            max_features=None, max_leaf_nodes=None,\n",
       "            min_impurity_decrease=0.0, min_impurity_split=None,\n",
       "            min_samples_leaf=1, min_samples_split=2,\n",
       "            min_weight_fraction_leaf=0.0, presort=False, random_state=None,\n",
       "            splitter='best')"
      ]
     },
     "execution_count": 24,
     "metadata": {},
     "output_type": "execute_result"
    }
   ],
   "source": [
    "X_train, X_test, y_train, y_test = train_test_split(X, y, test_size=0.3, random_state=0)\n",
    "dt = DecisionTreeClassifier()\n",
    "dt.fit(X_train, y_train)"
   ]
  },
  {
   "cell_type": "code",
   "execution_count": 25,
   "metadata": {},
   "outputs": [
    {
     "name": "stdout",
     "output_type": "stream",
     "text": [
      "0.533512064343\n",
      "--------------------------------------------------------\n",
      "[[515 422]\n",
      " [448 480]]\n",
      "--------------------------------------------------------\n",
      "             precision    recall  f1-score   support\n",
      "\n",
      "          0       0.53      0.55      0.54       937\n",
      "          1       0.53      0.52      0.52       928\n",
      "\n",
      "avg / total       0.53      0.53      0.53      1865\n",
      "\n",
      "--------------------------------------------------------\n",
      "0.53343392338\n"
     ]
    }
   ],
   "source": [
    "#Model evaluation\n",
    "# http://scikit-learn.org/stable/modules/model_evaluation.html\n",
    "print metrics.accuracy_score(y_test, dt.predict(X_test))\n",
    "print \"--------------------------------------------------------\"\n",
    "print metrics.confusion_matrix(y_test, dt.predict(X_test)) \n",
    "print \"--------------------------------------------------------\"\n",
    "print metrics.classification_report(y_test, dt.predict(X_test))\n",
    "print \"--------------------------------------------------------\"\n",
    "print metrics.roc_auc_score(y_test, dt.predict(X_test))"
   ]
  },
  {
   "cell_type": "code",
   "execution_count": 26,
   "metadata": {},
   "outputs": [
    {
     "data": {
      "text/plain": [
       "LogisticRegression(C=1.0, class_weight=None, dual=False, fit_intercept=True,\n",
       "          intercept_scaling=1, max_iter=100, multi_class='ovr', n_jobs=1,\n",
       "          penalty='l2', random_state=None, solver='liblinear', tol=0.0001,\n",
       "          verbose=0, warm_start=False)"
      ]
     },
     "execution_count": 26,
     "metadata": {},
     "output_type": "execute_result"
    }
   ],
   "source": [
    "X_train, X_test, y_train, y_test = train_test_split(X, y, test_size=0.3, random_state=0)\n",
    "lr = LogisticRegression()\n",
    "lr.fit(X_train, y_train)"
   ]
  },
  {
   "cell_type": "code",
   "execution_count": 27,
   "metadata": {},
   "outputs": [
    {
     "name": "stdout",
     "output_type": "stream",
     "text": [
      "0.581233243968\n",
      "[[563 374]\n",
      " [407 521]]\n",
      "             precision    recall  f1-score   support\n",
      "\n",
      "          0       0.58      0.60      0.59       937\n",
      "          1       0.58      0.56      0.57       928\n",
      "\n",
      "avg / total       0.58      0.58      0.58      1865\n",
      "\n",
      "0.58113810124\n"
     ]
    }
   ],
   "source": [
    "#Model evaluation\n",
    "print metrics.accuracy_score(y_test, lr.predict(X_test))\n",
    "print metrics.confusion_matrix(y_test, lr.predict(X_test))\n",
    "print metrics.classification_report(y_test, lr.predict(X_test))\n",
    "print metrics.roc_auc_score(y_test, lr.predict(X_test))"
   ]
  },
  {
   "cell_type": "code",
   "execution_count": 28,
   "metadata": {},
   "outputs": [
    {
     "name": "stdout",
     "output_type": "stream",
     "text": [
      "[[   8.    1.  203.]\n",
      " [  11.    1.   38.]\n",
      " [   4.    0.   68.]\n",
      " ..., \n",
      " [   6.    0.   95.]\n",
      " [   7.    1.   37.]\n",
      " [   7.    1.  344.]]\n"
     ]
    }
   ],
   "source": [
    "X_new = SelectKBest(chi2, k=3).fit_transform(X, y)\n",
    "print X_new"
   ]
  },
  {
   "cell_type": "code",
   "execution_count": 29,
   "metadata": {},
   "outputs": [
    {
     "name": "stdout",
     "output_type": "stream",
     "text": [
      "[1 2 7]\n"
     ]
    }
   ],
   "source": [
    "X_new = SelectKBest(chi2, k=3).fit(X, y)\n",
    "print X_new.get_support(indices=True)"
   ]
  },
  {
   "cell_type": "markdown",
   "metadata": {},
   "source": [
    "#### Years,Backer and Homeval is most important variables."
   ]
  },
  {
   "cell_type": "code",
   "execution_count": 54,
   "metadata": {},
   "outputs": [
    {
     "name": "stdout",
     "output_type": "stream",
     "text": [
      "0.531903485255\n",
      "--------------------------------------------------------\n",
      "[[746 191]\n",
      " [682 246]]\n",
      "--------------------------------------------------------\n",
      "             precision    recall  f1-score   support\n",
      "\n",
      "          0       0.52      0.80      0.63       937\n",
      "          1       0.56      0.27      0.36       928\n",
      "\n",
      "avg / total       0.54      0.53      0.50      1865\n",
      "\n",
      "--------------------------------------------------------\n",
      "0.530622078902\n"
     ]
    }
   ],
   "source": [
    "# develop a new knn model with k = 7\n",
    "X_train, X_test, y_train, y_test = train_test_split(X_logistic, y, test_size=0.3, random_state=0)\n",
    "dt = KNeighborsClassifier(n_neighbors=7)\n",
    "dt.fit(X_train, y_train)\n",
    "#Model evaluation\n",
    "print metrics.accuracy_score(y_test, dt.predict(X_test))\n",
    "print \"--------------------------------------------------------\"\n",
    "print metrics.confusion_matrix(y_test, dt.predict(X_test)) \n",
    "print \"--------------------------------------------------------\"\n",
    "print metrics.classification_report(y_test, dt.predict(X_test))\n",
    "print \"--------------------------------------------------------\"\n",
    "print metrics.roc_auc_score(y_test, dt.predict(X_test))"
   ]
  },
  {
   "cell_type": "code",
   "execution_count": 39,
   "metadata": {},
   "outputs": [
    {
     "name": "stdout",
     "output_type": "stream",
     "text": [
      "[False False  True False False False False False  True]\n",
      "[4 2 1 6 5 3 8 7 1]\n"
     ]
    }
   ],
   "source": [
    "model = LogisticRegression()\n",
    "rfe = RFE(model, 2)  #asking four best attributes\n",
    "rfe = rfe.fit(X, y)\n",
    "# summarize the selection of the attributes\n",
    "print(rfe.support_)\n",
    "print(rfe.ranking_)"
   ]
  },
  {
   "cell_type": "code",
   "execution_count": 40,
   "metadata": {},
   "outputs": [
    {
     "data": {
      "text/html": [
       "<div>\n",
       "<style>\n",
       "    .dataframe thead tr:only-child th {\n",
       "        text-align: right;\n",
       "    }\n",
       "\n",
       "    .dataframe thead th {\n",
       "        text-align: left;\n",
       "    }\n",
       "\n",
       "    .dataframe tbody tr th {\n",
       "        vertical-align: top;\n",
       "    }\n",
       "</style>\n",
       "<table border=\"1\" class=\"dataframe\">\n",
       "  <thead>\n",
       "    <tr style=\"text-align: right;\">\n",
       "      <th></th>\n",
       "      <th>feature</th>\n",
       "      <th>importance</th>\n",
       "    </tr>\n",
       "  </thead>\n",
       "  <tbody>\n",
       "    <tr>\n",
       "      <th>0</th>\n",
       "      <td>Y1price</td>\n",
       "      <td>4</td>\n",
       "    </tr>\n",
       "    <tr>\n",
       "      <th>1</th>\n",
       "      <td>YEARS</td>\n",
       "      <td>2</td>\n",
       "    </tr>\n",
       "    <tr>\n",
       "      <th>2</th>\n",
       "      <td>BACKER</td>\n",
       "      <td>1</td>\n",
       "    </tr>\n",
       "    <tr>\n",
       "      <th>3</th>\n",
       "      <td>AGE</td>\n",
       "      <td>6</td>\n",
       "    </tr>\n",
       "    <tr>\n",
       "      <th>4</th>\n",
       "      <td>INCOME</td>\n",
       "      <td>5</td>\n",
       "    </tr>\n",
       "    <tr>\n",
       "      <th>5</th>\n",
       "      <td>GNDR</td>\n",
       "      <td>3</td>\n",
       "    </tr>\n",
       "    <tr>\n",
       "      <th>6</th>\n",
       "      <td>PCTMARR</td>\n",
       "      <td>8</td>\n",
       "    </tr>\n",
       "    <tr>\n",
       "      <th>7</th>\n",
       "      <td>HOMEVAL</td>\n",
       "      <td>7</td>\n",
       "    </tr>\n",
       "    <tr>\n",
       "      <th>8</th>\n",
       "      <td>Total games</td>\n",
       "      <td>1</td>\n",
       "    </tr>\n",
       "  </tbody>\n",
       "</table>\n",
       "</div>"
      ],
      "text/plain": [
       "       feature  importance\n",
       "0      Y1price           4\n",
       "1        YEARS           2\n",
       "2       BACKER           1\n",
       "3          AGE           6\n",
       "4       INCOME           5\n",
       "5         GNDR           3\n",
       "6      PCTMARR           8\n",
       "7      HOMEVAL           7\n",
       "8  Total games           1"
      ]
     },
     "execution_count": 40,
     "metadata": {},
     "output_type": "execute_result"
    }
   ],
   "source": [
    "# Features sorted by their rank\n",
    "pd.DataFrame({'feature':X.columns, 'importance':rfe.ranking_})"
   ]
  },
  {
   "cell_type": "code",
   "execution_count": 41,
   "metadata": {},
   "outputs": [
    {
     "name": "stdout",
     "output_type": "stream",
     "text": [
      "   BACKER  Total games\n",
      "0       1            3\n",
      "2       1            2\n",
      "3       0            3\n",
      "4       0            1\n",
      "5       0            1\n"
     ]
    }
   ],
   "source": [
    "X_logistic = df1[['BACKER','Total games']]\n",
    "print X_logistic.head()"
   ]
  },
  {
   "cell_type": "code",
   "execution_count": 42,
   "metadata": {},
   "outputs": [
    {
     "name": "stderr",
     "output_type": "stream",
     "text": [
      "E:\\anaconda\\lib\\site-packages\\sklearn\\cross_validation.py:41: DeprecationWarning: This module was deprecated in version 0.18 in favor of the model_selection module into which all the refactored classes and functions are moved. Also note that the interface of the new CV iterators are different from that of this module. This module will be removed in 0.20.\n",
      "  \"This module will be removed in 0.20.\", DeprecationWarning)\n",
      "E:\\anaconda\\lib\\site-packages\\sklearn\\grid_search.py:42: DeprecationWarning: This module was deprecated in version 0.18 in favor of the model_selection module into which all the refactored classes and functions are moved. This module will be removed in 0.20.\n",
      "  DeprecationWarning)\n"
     ]
    },
    {
     "data": {
      "image/png": "[encoded data removed]",
      "text/plain": [
       "<matplotlib.figure.Figure at 0x161f3978>"
      ]
     },
     "metadata": {},
     "output_type": "display_data"
    }
   ],
   "source": [
    "from sklearn.grid_search import GridSearchCV\n",
    "\n",
    "knn = KNeighborsClassifier()\n",
    "k_range = range(1, 10)\n",
    "param_grid = dict(n_neighbors=k_range)\n",
    "grid = GridSearchCV(knn, param_grid, cv=10, scoring='accuracy')\n",
    "grid.fit(X_logistic, y)\n",
    "\n",
    "# check the results of the grid search\n",
    "grid.grid_scores_\n",
    "grid_mean_scores = [result[1] for result in grid.grid_scores_]\n",
    "plt.figure()\n",
    "plt.plot(k_range, grid_mean_scores)\n",
    "plt.show()"
   ]
  },
  {
   "cell_type": "code",
   "execution_count": 43,
   "metadata": {},
   "outputs": [
    {
     "name": "stdout",
     "output_type": "stream",
     "text": [
      "0.58722240103\n",
      "{'n_neighbors': 9}\n",
      "KNeighborsClassifier(algorithm='auto', leaf_size=30, metric='minkowski',\n",
      "           metric_params=None, n_jobs=1, n_neighbors=9, p=2,\n",
      "           weights='uniform')\n"
     ]
    }
   ],
   "source": [
    "print grid.best_score_\n",
    "print grid.best_params_\n",
    "print grid.best_estimator_"
   ]
  },
  {
   "cell_type": "code",
   "execution_count": 44,
   "metadata": {},
   "outputs": [
    {
     "name": "stdout",
     "output_type": "stream",
     "text": [
      "0.531903485255\n",
      "--------------------------------------------------------\n",
      "[[746 191]\n",
      " [682 246]]\n",
      "--------------------------------------------------------\n",
      "             precision    recall  f1-score   support\n",
      "\n",
      "          0       0.52      0.80      0.63       937\n",
      "          1       0.56      0.27      0.36       928\n",
      "\n",
      "avg / total       0.54      0.53      0.50      1865\n",
      "\n",
      "--------------------------------------------------------\n",
      "0.530622078902\n"
     ]
    }
   ],
   "source": [
    "# develop a new knn model with k = 7\n",
    "X_train, X_test, y_train, y_test = train_test_split(X_logistic, y, test_size=0.3, random_state=0)\n",
    "dt = KNeighborsClassifier(n_neighbors=7)\n",
    "dt.fit(X_train, y_train)\n",
    "#Model evaluation\n",
    "print metrics.accuracy_score(y_test, dt.predict(X_test))\n",
    "print \"--------------------------------------------------------\"\n",
    "print metrics.confusion_matrix(y_test, dt.predict(X_test)) \n",
    "print \"--------------------------------------------------------\"\n",
    "print metrics.classification_report(y_test, dt.predict(X_test))\n",
    "print \"--------------------------------------------------------\"\n",
    "print metrics.roc_auc_score(y_test, dt.predict(X_test))"
   ]
  },
  {
   "cell_type": "code",
   "execution_count": 45,
   "metadata": {},
   "outputs": [
    {
     "name": "stdout",
     "output_type": "stream",
     "text": [
      "0.590884718499\n",
      "--------------------------------------------------------\n",
      "[[635 302]\n",
      " [461 467]]\n",
      "--------------------------------------------------------\n",
      "             precision    recall  f1-score   support\n",
      "\n",
      "          0       0.58      0.68      0.62       937\n",
      "          1       0.61      0.50      0.55       928\n",
      "\n",
      "avg / total       0.59      0.59      0.59      1865\n",
      "\n",
      "--------------------------------------------------------\n",
      "0.590463764582\n"
     ]
    }
   ],
   "source": [
    "# evaluate the model by splitting into train (70%) and test sets (30%)\n",
    "X_train, X_test, y_train, y_test = train_test_split(X_logistic, y, test_size=0.3, random_state=0)\n",
    "#model2 = tree.DecisionTreeClassifier(criterion='entropy', max_depth=3,min_samples_leaf=5)\n",
    "dt = tree.DecisionTreeClassifier()\n",
    "dt.fit(X_train, y_train)\n",
    "\n",
    "#Model evaluation\n",
    "print metrics.accuracy_score(y_test, dt.predict(X_test))\n",
    "print \"--------------------------------------------------------\"\n",
    "print metrics.confusion_matrix(y_test, dt.predict(X_test)) \n",
    "print \"--------------------------------------------------------\"\n",
    "print metrics.classification_report(y_test, dt.predict(X_test))\n",
    "print \"--------------------------------------------------------\"\n",
    "print metrics.roc_auc_score(y_test, dt.predict(X_test))"
   ]
  },
  {
   "cell_type": "markdown",
   "metadata": {},
   "source": [
    "## Model Deployment & Prepare Entry Data"
   ]
  },
  {
   "cell_type": "code",
   "execution_count": 46,
   "metadata": {},
   "outputs": [
    {
     "data": {
      "text/html": [
       "<div>\n",
       "<style>\n",
       "    .dataframe thead tr:only-child th {\n",
       "        text-align: right;\n",
       "    }\n",
       "\n",
       "    .dataframe thead th {\n",
       "        text-align: left;\n",
       "    }\n",
       "\n",
       "    .dataframe tbody tr th {\n",
       "        vertical-align: top;\n",
       "    }\n",
       "</style>\n",
       "<table border=\"1\" class=\"dataframe\">\n",
       "  <thead>\n",
       "    <tr style=\"text-align: right;\">\n",
       "      <th></th>\n",
       "      <th>FAKEID</th>\n",
       "      <th>Y3defect</th>\n",
       "      <th>Y2G5</th>\n",
       "      <th>Y2G4</th>\n",
       "      <th>Y2G3</th>\n",
       "      <th>Y2G2</th>\n",
       "      <th>Y2G1</th>\n",
       "      <th>Y2price</th>\n",
       "      <th>YEARS</th>\n",
       "      <th>BACKER</th>\n",
       "      <th>AGE</th>\n",
       "      <th>INCOME</th>\n",
       "      <th>CHILD</th>\n",
       "      <th>GNDR</th>\n",
       "      <th>OWNHOME</th>\n",
       "      <th>SPORT</th>\n",
       "      <th>COMP</th>\n",
       "      <th>PCTMARR</th>\n",
       "      <th>HOMEVAL</th>\n",
       "    </tr>\n",
       "  </thead>\n",
       "  <tbody>\n",
       "    <tr>\n",
       "      <th>0</th>\n",
       "      <td>580D24RR</td>\n",
       "      <td>NaN</td>\n",
       "      <td>0</td>\n",
       "      <td>0</td>\n",
       "      <td>1</td>\n",
       "      <td>1</td>\n",
       "      <td>0</td>\n",
       "      <td>15</td>\n",
       "      <td>5</td>\n",
       "      <td>0</td>\n",
       "      <td>49.0</td>\n",
       "      <td>4</td>\n",
       "      <td>NaN</td>\n",
       "      <td>0</td>\n",
       "      <td>1</td>\n",
       "      <td>0.0</td>\n",
       "      <td></td>\n",
       "      <td>66</td>\n",
       "      <td>64</td>\n",
       "    </tr>\n",
       "    <tr>\n",
       "      <th>1</th>\n",
       "      <td>179Q96NO</td>\n",
       "      <td>NaN</td>\n",
       "      <td>1</td>\n",
       "      <td>1</td>\n",
       "      <td>1</td>\n",
       "      <td>1</td>\n",
       "      <td>1</td>\n",
       "      <td>25</td>\n",
       "      <td>9</td>\n",
       "      <td>1</td>\n",
       "      <td>84.0</td>\n",
       "      <td>5</td>\n",
       "      <td></td>\n",
       "      <td>0</td>\n",
       "      <td></td>\n",
       "      <td>0.0</td>\n",
       "      <td></td>\n",
       "      <td>67</td>\n",
       "      <td>128</td>\n",
       "    </tr>\n",
       "    <tr>\n",
       "      <th>2</th>\n",
       "      <td>050Z45TB</td>\n",
       "      <td>NaN</td>\n",
       "      <td>1</td>\n",
       "      <td>0</td>\n",
       "      <td>1</td>\n",
       "      <td>1</td>\n",
       "      <td>0</td>\n",
       "      <td>15</td>\n",
       "      <td>5</td>\n",
       "      <td>1</td>\n",
       "      <td>NaN</td>\n",
       "      <td></td>\n",
       "      <td>NaN</td>\n",
       "      <td>0</td>\n",
       "      <td>0</td>\n",
       "      <td>NaN</td>\n",
       "      <td>1</td>\n",
       "      <td>52</td>\n",
       "      <td>113</td>\n",
       "    </tr>\n",
       "    <tr>\n",
       "      <th>3</th>\n",
       "      <td>399V18KY</td>\n",
       "      <td>NaN</td>\n",
       "      <td>0</td>\n",
       "      <td>0</td>\n",
       "      <td>1</td>\n",
       "      <td>1</td>\n",
       "      <td>0</td>\n",
       "      <td>15</td>\n",
       "      <td>1</td>\n",
       "      <td>0</td>\n",
       "      <td>34.0</td>\n",
       "      <td>4</td>\n",
       "      <td>1</td>\n",
       "      <td>0</td>\n",
       "      <td>1</td>\n",
       "      <td>NaN</td>\n",
       "      <td></td>\n",
       "      <td>65</td>\n",
       "      <td>81</td>\n",
       "    </tr>\n",
       "    <tr>\n",
       "      <th>4</th>\n",
       "      <td>009A52KP</td>\n",
       "      <td>NaN</td>\n",
       "      <td>0</td>\n",
       "      <td>1</td>\n",
       "      <td>0</td>\n",
       "      <td>1</td>\n",
       "      <td>0</td>\n",
       "      <td>25</td>\n",
       "      <td>9</td>\n",
       "      <td>1</td>\n",
       "      <td>59.0</td>\n",
       "      <td>4</td>\n",
       "      <td>NaN</td>\n",
       "      <td>1</td>\n",
       "      <td>1</td>\n",
       "      <td>0.0</td>\n",
       "      <td></td>\n",
       "      <td>65</td>\n",
       "      <td>110</td>\n",
       "    </tr>\n",
       "  </tbody>\n",
       "</table>\n",
       "</div>"
      ],
      "text/plain": [
       "     FAKEID  Y3defect  Y2G5  Y2G4  Y2G3  Y2G2  Y2G1  Y2price  YEARS  BACKER  \\\n",
       "0  580D24RR       NaN     0     0     1     1     0       15      5       0   \n",
       "1  179Q96NO       NaN     1     1     1     1     1       25      9       1   \n",
       "2  050Z45TB       NaN     1     0     1     1     0       15      5       1   \n",
       "3  399V18KY       NaN     0     0     1     1     0       15      1       0   \n",
       "4  009A52KP       NaN     0     1     0     1     0       25      9       1   \n",
       "\n",
       "    AGE INCOME CHILD GNDR OWNHOME  SPORT COMP  PCTMARR  HOMEVAL  \n",
       "0  49.0      4   NaN    0       1    0.0            66       64  \n",
       "1  84.0      5          0            0.0            67      128  \n",
       "2   NaN          NaN    0       0    NaN    1       52      113  \n",
       "3  34.0      4     1    0       1    NaN            65       81  \n",
       "4  59.0      4   NaN    1       1    0.0            65      110  "
      ]
     },
     "execution_count": 46,
     "metadata": {},
     "output_type": "execute_result"
    }
   ],
   "source": [
    "df2 = pd.read_excel(\"validation_dataset.xlsx\")\n",
    "df2.head()"
   ]
  },
  {
   "cell_type": "markdown",
   "metadata": {},
   "source": [
    "The column names of validation dataset must be same as those of the training-testing dataset."
   ]
  },
  {
   "cell_type": "code",
   "execution_count": 47,
   "metadata": {},
   "outputs": [
    {
     "data": {
      "text/html": [
       "<div>\n",
       "<style>\n",
       "    .dataframe thead tr:only-child th {\n",
       "        text-align: right;\n",
       "    }\n",
       "\n",
       "    .dataframe thead th {\n",
       "        text-align: left;\n",
       "    }\n",
       "\n",
       "    .dataframe tbody tr th {\n",
       "        vertical-align: top;\n",
       "    }\n",
       "</style>\n",
       "<table border=\"1\" class=\"dataframe\">\n",
       "  <thead>\n",
       "    <tr style=\"text-align: right;\">\n",
       "      <th></th>\n",
       "      <th>FAKEID</th>\n",
       "      <th>Y3defect</th>\n",
       "      <th>Y2G5</th>\n",
       "      <th>Y2G4</th>\n",
       "      <th>Y2G3</th>\n",
       "      <th>Y2G2</th>\n",
       "      <th>Y2G1</th>\n",
       "      <th>Y2price</th>\n",
       "      <th>YEARS</th>\n",
       "      <th>BACKER</th>\n",
       "      <th>AGE</th>\n",
       "      <th>INCOME</th>\n",
       "      <th>CHILD</th>\n",
       "      <th>GNDR</th>\n",
       "      <th>OWNHOME</th>\n",
       "      <th>SPORT</th>\n",
       "      <th>COMP</th>\n",
       "      <th>PCTMARR</th>\n",
       "      <th>HOMEVAL</th>\n",
       "    </tr>\n",
       "  </thead>\n",
       "  <tbody>\n",
       "    <tr>\n",
       "      <th>0</th>\n",
       "      <td>580D24RR</td>\n",
       "      <td>NaN</td>\n",
       "      <td>0</td>\n",
       "      <td>0</td>\n",
       "      <td>1</td>\n",
       "      <td>1</td>\n",
       "      <td>0</td>\n",
       "      <td>15</td>\n",
       "      <td>5</td>\n",
       "      <td>0</td>\n",
       "      <td>49.0</td>\n",
       "      <td>4.0</td>\n",
       "      <td>NaN</td>\n",
       "      <td>0.0</td>\n",
       "      <td>1.0</td>\n",
       "      <td>0.0</td>\n",
       "      <td>NaN</td>\n",
       "      <td>66</td>\n",
       "      <td>64</td>\n",
       "    </tr>\n",
       "    <tr>\n",
       "      <th>1</th>\n",
       "      <td>179Q96NO</td>\n",
       "      <td>NaN</td>\n",
       "      <td>1</td>\n",
       "      <td>1</td>\n",
       "      <td>1</td>\n",
       "      <td>1</td>\n",
       "      <td>1</td>\n",
       "      <td>25</td>\n",
       "      <td>9</td>\n",
       "      <td>1</td>\n",
       "      <td>84.0</td>\n",
       "      <td>5.0</td>\n",
       "      <td>NaN</td>\n",
       "      <td>0.0</td>\n",
       "      <td>NaN</td>\n",
       "      <td>0.0</td>\n",
       "      <td>NaN</td>\n",
       "      <td>67</td>\n",
       "      <td>128</td>\n",
       "    </tr>\n",
       "    <tr>\n",
       "      <th>2</th>\n",
       "      <td>050Z45TB</td>\n",
       "      <td>NaN</td>\n",
       "      <td>1</td>\n",
       "      <td>0</td>\n",
       "      <td>1</td>\n",
       "      <td>1</td>\n",
       "      <td>0</td>\n",
       "      <td>15</td>\n",
       "      <td>5</td>\n",
       "      <td>1</td>\n",
       "      <td>NaN</td>\n",
       "      <td>NaN</td>\n",
       "      <td>NaN</td>\n",
       "      <td>0.0</td>\n",
       "      <td>0.0</td>\n",
       "      <td>NaN</td>\n",
       "      <td>1.0</td>\n",
       "      <td>52</td>\n",
       "      <td>113</td>\n",
       "    </tr>\n",
       "    <tr>\n",
       "      <th>3</th>\n",
       "      <td>399V18KY</td>\n",
       "      <td>NaN</td>\n",
       "      <td>0</td>\n",
       "      <td>0</td>\n",
       "      <td>1</td>\n",
       "      <td>1</td>\n",
       "      <td>0</td>\n",
       "      <td>15</td>\n",
       "      <td>1</td>\n",
       "      <td>0</td>\n",
       "      <td>34.0</td>\n",
       "      <td>4.0</td>\n",
       "      <td>1.0</td>\n",
       "      <td>0.0</td>\n",
       "      <td>1.0</td>\n",
       "      <td>NaN</td>\n",
       "      <td>NaN</td>\n",
       "      <td>65</td>\n",
       "      <td>81</td>\n",
       "    </tr>\n",
       "    <tr>\n",
       "      <th>4</th>\n",
       "      <td>009A52KP</td>\n",
       "      <td>NaN</td>\n",
       "      <td>0</td>\n",
       "      <td>1</td>\n",
       "      <td>0</td>\n",
       "      <td>1</td>\n",
       "      <td>0</td>\n",
       "      <td>25</td>\n",
       "      <td>9</td>\n",
       "      <td>1</td>\n",
       "      <td>59.0</td>\n",
       "      <td>4.0</td>\n",
       "      <td>NaN</td>\n",
       "      <td>1.0</td>\n",
       "      <td>1.0</td>\n",
       "      <td>0.0</td>\n",
       "      <td>NaN</td>\n",
       "      <td>65</td>\n",
       "      <td>110</td>\n",
       "    </tr>\n",
       "  </tbody>\n",
       "</table>\n",
       "</div>"
      ],
      "text/plain": [
       "     FAKEID  Y3defect  Y2G5  Y2G4  Y2G3  Y2G2  Y2G1  Y2price  YEARS  BACKER  \\\n",
       "0  580D24RR       NaN     0     0     1     1     0       15      5       0   \n",
       "1  179Q96NO       NaN     1     1     1     1     1       25      9       1   \n",
       "2  050Z45TB       NaN     1     0     1     1     0       15      5       1   \n",
       "3  399V18KY       NaN     0     0     1     1     0       15      1       0   \n",
       "4  009A52KP       NaN     0     1     0     1     0       25      9       1   \n",
       "\n",
       "    AGE  INCOME  CHILD  GNDR  OWNHOME  SPORT  COMP  PCTMARR  HOMEVAL  \n",
       "0  49.0     4.0    NaN   0.0      1.0    0.0   NaN       66       64  \n",
       "1  84.0     5.0    NaN   0.0      NaN    0.0   NaN       67      128  \n",
       "2   NaN     NaN    NaN   0.0      0.0    NaN   1.0       52      113  \n",
       "3  34.0     4.0    1.0   0.0      1.0    NaN   NaN       65       81  \n",
       "4  59.0     4.0    NaN   1.0      1.0    0.0   NaN       65      110  "
      ]
     },
     "execution_count": 47,
     "metadata": {},
     "output_type": "execute_result"
    }
   ],
   "source": [
    "df2=df2.replace(r'\\s+', np.nan, regex=True)\n",
    "df2.head()"
   ]
  },
  {
   "cell_type": "code",
   "execution_count": 48,
   "metadata": {
    "collapsed": true
   },
   "outputs": [],
   "source": [
    "df2['Total games'] = df2['Y2G5'] + df2['Y2G4']+ df2['Y2G3']+ df2['Y2G2']+ df2['Y2G1']\n",
    "df2=df2.drop(['Y3defect','CHILD','COMP','SPORT','Y2G5','Y2G4','Y2G3','Y2G2','Y2G1','OWNHOME'], axis=1)"
   ]
  },
  {
   "cell_type": "code",
   "execution_count": 49,
   "metadata": {},
   "outputs": [
    {
     "data": {
      "text/html": [
       "<div>\n",
       "<style>\n",
       "    .dataframe thead tr:only-child th {\n",
       "        text-align: right;\n",
       "    }\n",
       "\n",
       "    .dataframe thead th {\n",
       "        text-align: left;\n",
       "    }\n",
       "\n",
       "    .dataframe tbody tr th {\n",
       "        vertical-align: top;\n",
       "    }\n",
       "</style>\n",
       "<table border=\"1\" class=\"dataframe\">\n",
       "  <thead>\n",
       "    <tr style=\"text-align: right;\">\n",
       "      <th></th>\n",
       "      <th>FAKEID</th>\n",
       "      <th>Y2price</th>\n",
       "      <th>YEARS</th>\n",
       "      <th>BACKER</th>\n",
       "      <th>AGE</th>\n",
       "      <th>INCOME</th>\n",
       "      <th>GNDR</th>\n",
       "      <th>PCTMARR</th>\n",
       "      <th>HOMEVAL</th>\n",
       "      <th>Total games</th>\n",
       "    </tr>\n",
       "  </thead>\n",
       "  <tbody>\n",
       "    <tr>\n",
       "      <th>0</th>\n",
       "      <td>580D24RR</td>\n",
       "      <td>15</td>\n",
       "      <td>5</td>\n",
       "      <td>0</td>\n",
       "      <td>49.0</td>\n",
       "      <td>4.0</td>\n",
       "      <td>0.0</td>\n",
       "      <td>66</td>\n",
       "      <td>64</td>\n",
       "      <td>2</td>\n",
       "    </tr>\n",
       "    <tr>\n",
       "      <th>1</th>\n",
       "      <td>179Q96NO</td>\n",
       "      <td>25</td>\n",
       "      <td>9</td>\n",
       "      <td>1</td>\n",
       "      <td>84.0</td>\n",
       "      <td>5.0</td>\n",
       "      <td>0.0</td>\n",
       "      <td>67</td>\n",
       "      <td>128</td>\n",
       "      <td>5</td>\n",
       "    </tr>\n",
       "    <tr>\n",
       "      <th>2</th>\n",
       "      <td>050Z45TB</td>\n",
       "      <td>15</td>\n",
       "      <td>5</td>\n",
       "      <td>1</td>\n",
       "      <td>NaN</td>\n",
       "      <td>NaN</td>\n",
       "      <td>0.0</td>\n",
       "      <td>52</td>\n",
       "      <td>113</td>\n",
       "      <td>3</td>\n",
       "    </tr>\n",
       "    <tr>\n",
       "      <th>3</th>\n",
       "      <td>399V18KY</td>\n",
       "      <td>15</td>\n",
       "      <td>1</td>\n",
       "      <td>0</td>\n",
       "      <td>34.0</td>\n",
       "      <td>4.0</td>\n",
       "      <td>0.0</td>\n",
       "      <td>65</td>\n",
       "      <td>81</td>\n",
       "      <td>2</td>\n",
       "    </tr>\n",
       "    <tr>\n",
       "      <th>4</th>\n",
       "      <td>009A52KP</td>\n",
       "      <td>25</td>\n",
       "      <td>9</td>\n",
       "      <td>1</td>\n",
       "      <td>59.0</td>\n",
       "      <td>4.0</td>\n",
       "      <td>1.0</td>\n",
       "      <td>65</td>\n",
       "      <td>110</td>\n",
       "      <td>2</td>\n",
       "    </tr>\n",
       "  </tbody>\n",
       "</table>\n",
       "</div>"
      ],
      "text/plain": [
       "     FAKEID  Y2price  YEARS  BACKER   AGE  INCOME  GNDR  PCTMARR  HOMEVAL  \\\n",
       "0  580D24RR       15      5       0  49.0     4.0   0.0       66       64   \n",
       "1  179Q96NO       25      9       1  84.0     5.0   0.0       67      128   \n",
       "2  050Z45TB       15      5       1   NaN     NaN   0.0       52      113   \n",
       "3  399V18KY       15      1       0  34.0     4.0   0.0       65       81   \n",
       "4  009A52KP       25      9       1  59.0     4.0   1.0       65      110   \n",
       "\n",
       "   Total games  \n",
       "0            2  \n",
       "1            5  \n",
       "2            3  \n",
       "3            2  \n",
       "4            2  "
      ]
     },
     "execution_count": 49,
     "metadata": {},
     "output_type": "execute_result"
    }
   ],
   "source": [
    "df2.head()"
   ]
  },
  {
   "cell_type": "code",
   "execution_count": 50,
   "metadata": {},
   "outputs": [
    {
     "data": {
      "text/html": [
       "<div>\n",
       "<style>\n",
       "    .dataframe thead tr:only-child th {\n",
       "        text-align: right;\n",
       "    }\n",
       "\n",
       "    .dataframe thead th {\n",
       "        text-align: left;\n",
       "    }\n",
       "\n",
       "    .dataframe tbody tr th {\n",
       "        vertical-align: top;\n",
       "    }\n",
       "</style>\n",
       "<table border=\"1\" class=\"dataframe\">\n",
       "  <thead>\n",
       "    <tr style=\"text-align: right;\">\n",
       "      <th></th>\n",
       "      <th>FAKEID</th>\n",
       "      <th>Y2price</th>\n",
       "      <th>YEARS</th>\n",
       "      <th>BACKER</th>\n",
       "      <th>AGE</th>\n",
       "      <th>INCOME</th>\n",
       "      <th>GNDR</th>\n",
       "      <th>PCTMARR</th>\n",
       "      <th>HOMEVAL</th>\n",
       "      <th>Total games</th>\n",
       "    </tr>\n",
       "  </thead>\n",
       "  <tbody>\n",
       "    <tr>\n",
       "      <th>0</th>\n",
       "      <td>580D24RR</td>\n",
       "      <td>15</td>\n",
       "      <td>5</td>\n",
       "      <td>0</td>\n",
       "      <td>49.0</td>\n",
       "      <td>4.0</td>\n",
       "      <td>0.0</td>\n",
       "      <td>66</td>\n",
       "      <td>64</td>\n",
       "      <td>2</td>\n",
       "    </tr>\n",
       "    <tr>\n",
       "      <th>1</th>\n",
       "      <td>179Q96NO</td>\n",
       "      <td>25</td>\n",
       "      <td>9</td>\n",
       "      <td>1</td>\n",
       "      <td>84.0</td>\n",
       "      <td>5.0</td>\n",
       "      <td>0.0</td>\n",
       "      <td>67</td>\n",
       "      <td>128</td>\n",
       "      <td>5</td>\n",
       "    </tr>\n",
       "    <tr>\n",
       "      <th>3</th>\n",
       "      <td>399V18KY</td>\n",
       "      <td>15</td>\n",
       "      <td>1</td>\n",
       "      <td>0</td>\n",
       "      <td>34.0</td>\n",
       "      <td>4.0</td>\n",
       "      <td>0.0</td>\n",
       "      <td>65</td>\n",
       "      <td>81</td>\n",
       "      <td>2</td>\n",
       "    </tr>\n",
       "    <tr>\n",
       "      <th>4</th>\n",
       "      <td>009A52KP</td>\n",
       "      <td>25</td>\n",
       "      <td>9</td>\n",
       "      <td>1</td>\n",
       "      <td>59.0</td>\n",
       "      <td>4.0</td>\n",
       "      <td>1.0</td>\n",
       "      <td>65</td>\n",
       "      <td>110</td>\n",
       "      <td>2</td>\n",
       "    </tr>\n",
       "    <tr>\n",
       "      <th>5</th>\n",
       "      <td>059D43VJ</td>\n",
       "      <td>15</td>\n",
       "      <td>1</td>\n",
       "      <td>0</td>\n",
       "      <td>69.0</td>\n",
       "      <td>6.0</td>\n",
       "      <td>0.0</td>\n",
       "      <td>69</td>\n",
       "      <td>192</td>\n",
       "      <td>1</td>\n",
       "    </tr>\n",
       "  </tbody>\n",
       "</table>\n",
       "</div>"
      ],
      "text/plain": [
       "     FAKEID  Y2price  YEARS  BACKER   AGE  INCOME  GNDR  PCTMARR  HOMEVAL  \\\n",
       "0  580D24RR       15      5       0  49.0     4.0   0.0       66       64   \n",
       "1  179Q96NO       25      9       1  84.0     5.0   0.0       67      128   \n",
       "3  399V18KY       15      1       0  34.0     4.0   0.0       65       81   \n",
       "4  009A52KP       25      9       1  59.0     4.0   1.0       65      110   \n",
       "5  059D43VJ       15      1       0  69.0     6.0   0.0       69      192   \n",
       "\n",
       "   Total games  \n",
       "0            2  \n",
       "1            5  \n",
       "3            2  \n",
       "4            2  \n",
       "5            1  "
      ]
     },
     "execution_count": 50,
     "metadata": {},
     "output_type": "execute_result"
    }
   ],
   "source": [
    "df3=df2.dropna()\n",
    "df3.head()"
   ]
  },
  {
   "cell_type": "code",
   "execution_count": 51,
   "metadata": {},
   "outputs": [
    {
     "data": {
      "text/html": [
       "<div>\n",
       "<style>\n",
       "    .dataframe thead tr:only-child th {\n",
       "        text-align: right;\n",
       "    }\n",
       "\n",
       "    .dataframe thead th {\n",
       "        text-align: left;\n",
       "    }\n",
       "\n",
       "    .dataframe tbody tr th {\n",
       "        vertical-align: top;\n",
       "    }\n",
       "</style>\n",
       "<table border=\"1\" class=\"dataframe\">\n",
       "  <thead>\n",
       "    <tr style=\"text-align: right;\">\n",
       "      <th></th>\n",
       "      <th>FAKEID</th>\n",
       "    </tr>\n",
       "  </thead>\n",
       "  <tbody>\n",
       "    <tr>\n",
       "      <th>0</th>\n",
       "      <td>580D24RR</td>\n",
       "    </tr>\n",
       "    <tr>\n",
       "      <th>1</th>\n",
       "      <td>179Q96NO</td>\n",
       "    </tr>\n",
       "    <tr>\n",
       "      <th>3</th>\n",
       "      <td>399V18KY</td>\n",
       "    </tr>\n",
       "    <tr>\n",
       "      <th>4</th>\n",
       "      <td>009A52KP</td>\n",
       "    </tr>\n",
       "    <tr>\n",
       "      <th>5</th>\n",
       "      <td>059D43VJ</td>\n",
       "    </tr>\n",
       "  </tbody>\n",
       "</table>\n",
       "</div>"
      ],
      "text/plain": [
       "     FAKEID\n",
       "0  580D24RR\n",
       "1  179Q96NO\n",
       "3  399V18KY\n",
       "4  009A52KP\n",
       "5  059D43VJ"
      ]
     },
     "execution_count": 51,
     "metadata": {},
     "output_type": "execute_result"
    }
   ],
   "source": [
    "fakeid = pd.DataFrame(df3['FAKEID'])\n",
    "fakeid.head()"
   ]
  },
  {
   "cell_type": "code",
   "execution_count": 52,
   "metadata": {},
   "outputs": [
    {
     "name": "stdout",
     "output_type": "stream",
     "text": [
      "<class 'pandas.core.frame.DataFrame'>\n",
      "RangeIndex: 9542 entries, 0 to 9541\n",
      "Data columns (total 2 columns):\n",
      "BACKER         9542 non-null int64\n",
      "Total games    9542 non-null int64\n",
      "dtypes: int64(2)\n",
      "memory usage: 149.2 KB\n"
     ]
    }
   ],
   "source": [
    "validation = df2[['BACKER','Total games']]\n",
    "validation.info()"
   ]
  },
  {
   "cell_type": "code",
   "execution_count": 53,
   "metadata": {
    "collapsed": true
   },
   "outputs": [],
   "source": [
    "# applying the decision tree model to validation dataset\n",
    "output_scoring = dt.predict(validation)\n",
    "\n",
    "# generating probability for defect for each fan\n",
    "probs = dt.predict_proba(validation)\n",
    "probs = pd.DataFrame(probs, columns=['prob of Renewal', 'prob of Defect'])\n",
    "\n",
    "# joining two dataframes (fakeid and probability)\n",
    "risky_fans = fakeid.join(probs)\n",
    "\n",
    "# joining dataframes (fakeid, probability, and prediction)\n",
    "predicted_y= pd.DataFrame(output_scoring, columns=['Predicted Defect'])\n",
    "risky_fans = risky_fans.join(predicted_y)\n",
    "\n",
    "# generating submission file\n",
    "risky_fans.to_csv(\"submissionentry.csv\", index=False)"
   ]
  },
  {
   "cell_type": "markdown",
   "metadata": {
    "collapsed": true
   },
   "source": [
    "## Final analysis & storytelling"
   ]
  },
  {
   "cell_type": "markdown",
   "metadata": {},
   "source": [
    "- Member of Backer club has higher chance to buy more tickets in this dataset.\n",
    "- Years has a positive relation with total games which means more and more people decide to buy tickets.\n",
    "- Years and Backer has a highly related positive relation too.\n",
    "- Age might be another point that affect Member of Backer club because it has a positive correlation."
   ]
  },
  {
   "cell_type": "code",
   "execution_count": null,
   "metadata": {
    "collapsed": true
   },
   "outputs": [],
   "source": []
  }
 ],
 "metadata": {
  "kernelspec": {
   "display_name": "Python 2",
   "language": "python",
   "name": "python2"
  },
  "language_info": {
   "codemirror_mode": {
    "name": "ipython",
    "version": 2
   },
   "file_extension": ".py",
   "mimetype": "text/x-python",
   "name": "python",
   "nbconvert_exporter": "python",
   "pygments_lexer": "ipython2",
   "version": "2.7.14"
  }
 },
 "nbformat": 4,
 "nbformat_minor": 2
}
